{
 "cells": [
  {
   "cell_type": "code",
   "execution_count": 1,
   "metadata": {},
   "outputs": [],
   "source": [
    "import pyspark\n",
    "from pyspark import SparkContext\n",
    "from pyspark.sql import SparkSession\n",
    "from pymongo import MongoClient\n",
    "from pyspark.sql import SQLContext\n",
    "from pyspark.sql import functions as F"
   ]
  },
  {
   "cell_type": "code",
   "execution_count": 2,
   "metadata": {},
   "outputs": [],
   "source": [
    "conf = pyspark.SparkConf().set(\"spark.jars.packages\", \"org.mongodb.spark:mongo-spark-connector_2.12:10.4.0\") \\\n",
    "    .setMaster(\"local\") \\\n",
    "    .setAppName(\"BDA_Ass\") \\\n",
    "    .setAll([(\"spark.driver.memory\", \"40g\"), (\"spark.executor.memory\", \"50g\")])"
   ]
  },
  {
   "cell_type": "code",
   "execution_count": 3,
   "metadata": {},
   "outputs": [],
   "source": [
    "client = MongoClient('mongodb://localhost:27017/')\n",
    "db = client['College_DB']"
   ]
  },
  {
   "cell_type": "code",
   "execution_count": 4,
   "metadata": {},
   "outputs": [
    {
     "name": "stderr",
     "output_type": "stream",
     "text": [
      "24/09/26 21:54:40 WARN Utils: Your hostname, scorched-one-HP-Pavilion-Laptop-15-eh1xxx resolves to a loopback address: 127.0.1.1; using 192.168.46.68 instead (on interface wlo1)\n",
      "24/09/26 21:54:40 WARN Utils: Set SPARK_LOCAL_IP if you need to bind to another address\n"
     ]
    },
    {
     "name": "stdout",
     "output_type": "stream",
     "text": [
      ":: loading settings :: url = jar:file:/home/scorched-one/anaconda3/envs/ML/lib/python3.12/site-packages/pyspark/jars/ivy-2.5.1.jar!/org/apache/ivy/core/settings/ivysettings.xml\n"
     ]
    },
    {
     "name": "stderr",
     "output_type": "stream",
     "text": [
      "Ivy Default Cache set to: /home/scorched-one/.ivy2/cache\n",
      "The jars for the packages stored in: /home/scorched-one/.ivy2/jars\n",
      "org.mongodb.spark#mongo-spark-connector_2.12 added as a dependency\n",
      ":: resolving dependencies :: org.apache.spark#spark-submit-parent-3a1af8a0-bb51-4301-978e-00b895ab463b;1.0\n",
      "\tconfs: [default]\n",
      "\tfound org.mongodb.spark#mongo-spark-connector_2.12;10.4.0 in central\n",
      "\tfound org.mongodb#mongodb-driver-sync;5.1.4 in central\n",
      "\t[5.1.4] org.mongodb#mongodb-driver-sync;[5.1.1,5.1.99)\n",
      "\tfound org.mongodb#bson;5.1.4 in central\n",
      "\tfound org.mongodb#mongodb-driver-core;5.1.4 in central\n",
      "\tfound org.mongodb#bson-record-codec;5.1.4 in central\n",
      ":: resolution report :: resolve 11423ms :: artifacts dl 7ms\n",
      "\t:: modules in use:\n",
      "\torg.mongodb#bson;5.1.4 from central in [default]\n",
      "\torg.mongodb#bson-record-codec;5.1.4 from central in [default]\n",
      "\torg.mongodb#mongodb-driver-core;5.1.4 from central in [default]\n",
      "\torg.mongodb#mongodb-driver-sync;5.1.4 from central in [default]\n",
      "\torg.mongodb.spark#mongo-spark-connector_2.12;10.4.0 from central in [default]\n",
      "\t---------------------------------------------------------------------\n",
      "\t|                  |            modules            ||   artifacts   |\n",
      "\t|       conf       | number| search|dwnlded|evicted|| number|dwnlded|\n",
      "\t---------------------------------------------------------------------\n",
      "\t|      default     |   5   |   1   |   0   |   0   ||   5   |   0   |\n",
      "\t---------------------------------------------------------------------\n",
      ":: retrieving :: org.apache.spark#spark-submit-parent-3a1af8a0-bb51-4301-978e-00b895ab463b\n",
      "\tconfs: [default]\n",
      "\t0 artifacts copied, 5 already retrieved (0kB/4ms)\n",
      "24/09/26 21:54:52 WARN NativeCodeLoader: Unable to load native-hadoop library for your platform... using builtin-java classes where applicable\n",
      "Setting default log level to \"WARN\".\n",
      "To adjust logging level use sc.setLogLevel(newLevel). For SparkR, use setLogLevel(newLevel).\n"
     ]
    }
   ],
   "source": [
    "sc = SparkContext(conf=conf)"
   ]
  },
  {
   "cell_type": "code",
   "execution_count": 5,
   "metadata": {},
   "outputs": [
    {
     "name": "stderr",
     "output_type": "stream",
     "text": [
      "/home/scorched-one/anaconda3/envs/ML/lib/python3.12/site-packages/pyspark/sql/context.py:113: FutureWarning: Deprecated in 3.0.0. Use SparkSession.builder.getOrCreate() instead.\n",
      "  warnings.warn(\n"
     ]
    }
   ],
   "source": [
    "sqlC = SQLContext(sc)"
   ]
  },
  {
   "cell_type": "code",
   "execution_count": 6,
   "metadata": {},
   "outputs": [],
   "source": [
    "mongo_uri = \"mongodb://localhost:27017/College_DB\""
   ]
  },
  {
   "cell_type": "code",
   "execution_count": 7,
   "metadata": {},
   "outputs": [],
   "source": [
    "departments_df = sqlC.read.format(\"mongo\")\n",
    "instructors_df = sqlC.read.format(\"mongo\")\n",
    "students_df = sqlC.read.format(\"mongo\")\n",
    "courses_df = sqlC.read.format(\"mongo\")\n",
    "enrollments_df = sqlC.read.format(\"mongo\")"
   ]
  },
  {
   "cell_type": "code",
   "execution_count": 8,
   "metadata": {},
   "outputs": [],
   "source": [
    "def fetch_students_in_course(db):\n",
    "    return list(db.Students.aggregate([\n",
    "        {\n",
    "            \"$lookup\": {\n",
    "                \"from\": \"Enrollments\",\n",
    "                \"localField\": \"_id\",\n",
    "                \"foreignField\": \"student_id\",\n",
    "                \"as\": \"enrollment\"\n",
    "            }\n",
    "        },\n",
    "        {\n",
    "            \"$unwind\": \"$enrollment\"\n",
    "        },\n",
    "        {\n",
    "            \"$lookup\": {\n",
    "                \"from\": \"Courses\",\n",
    "                \"localField\": \"enrollment.course_id\",\n",
    "                \"foreignField\": \"_id\",\n",
    "                \"as\": \"course\"\n",
    "            }\n",
    "        },\n",
    "        {\n",
    "            \"$unwind\": \"$course\"\n",
    "        },\n",
    "        {\n",
    "            \"$match\": {\n",
    "                \"course.name\": \"Data Structures\"\n",
    "            }\n",
    "        },\n",
    "        {\n",
    "            \"$project\": {\n",
    "                \"name\": 1,\n",
    "                \"student_type\": 1\n",
    "            }\n",
    "        }\n",
    "    ]))\n",
    "\n",
    "def average_students_per_instructor(db):\n",
    "    return list(db.Courses.aggregate([\n",
    "        {\n",
    "            \"$lookup\": {\n",
    "                \"from\": \"Enrollments\",\n",
    "                \"localField\": \"_id\",\n",
    "                \"foreignField\": \"course_id\",\n",
    "                \"as\": \"enrollment\"\n",
    "            }\n",
    "        },\n",
    "        {\n",
    "            \"$group\": {\n",
    "                \"_id\": \"$instructor_id\",\n",
    "                \"enrollment_count\": {\"$sum\": {\"$size\": {\"$ifNull\": [\"$enrollment\", []]}}}\n",
    "            }\n",
    "        },\n",
    "        {\n",
    "            \"$group\": {\n",
    "                \"_id\": None,\n",
    "                \"average\": {\"$avg\": \"$enrollment_count\"}\n",
    "            }\n",
    "        }\n",
    "    ]))\n",
    "\n",
    "def list_courses_by_department(db):\n",
    "    return list(db.Courses.aggregate([\n",
    "        {\n",
    "            \"$lookup\": {\n",
    "                \"from\": \"Departments\",\n",
    "                \"localField\": \"department_id\",\n",
    "                \"foreignField\": \"_id\",\n",
    "                \"as\": \"department\"\n",
    "            }\n",
    "        },\n",
    "        {\n",
    "            \"$unwind\": \"$department\"\n",
    "        },\n",
    "        {\n",
    "            \"$match\": {\n",
    "                \"department.name\": \"Computer Science\"\n",
    "            }\n",
    "        },\n",
    "        {\n",
    "            \"$project\": {\n",
    "                \"name\": 1\n",
    "            }\n",
    "        }\n",
    "    ]))\n",
    "\n",
    "def total_students_per_department(db):\n",
    "    return list(db.Students.aggregate([\n",
    "        {\n",
    "            \"$lookup\": {\n",
    "                \"from\": \"Departments\",\n",
    "                \"localField\": \"department_id\",\n",
    "                \"foreignField\": \"_id\",\n",
    "                \"as\": \"department\"\n",
    "            }\n",
    "        },\n",
    "        {\n",
    "            \"$unwind\": \"$department\"\n",
    "        },\n",
    "        {\n",
    "            \"$group\": {\n",
    "                \"_id\": \"department.name\",\n",
    "                \"total_students\": {\"$sum\": 1}\n",
    "            }\n",
    "        }\n",
    "    ]))\n",
    "\n",
    "def instructors_taught_btech_cse_core(db):\n",
    "    return list(db.Instructors.aggregate([\n",
    "        {\n",
    "            \"$lookup\": {\n",
    "                \"from\": \"Courses\",\n",
    "                \"localField\": \"_id\",\n",
    "                \"foreignField\": \"instructor_id\",\n",
    "                \"as\": \"courses\"\n",
    "            }\n",
    "        },\n",
    "        {\n",
    "            \"$unwind\": \"$courses\"\n",
    "        },\n",
    "        {\n",
    "            \"$match\": {\n",
    "                \"courses.is_core\": True,\n",
    "                \"courses.department_id\": db.Departments.find_one({\"name\": \"Computer Science\"})[\"_id\"]\n",
    "            }\n",
    "        },\n",
    "        {\n",
    "            \"$group\": {\n",
    "                \"_id\": \"$_id\",\n",
    "                \"count\": {\"$sum\": 1}\n",
    "            }\n",
    "        },\n",
    "        {\n",
    "            \"$match\": {\n",
    "                \"count\": db.Courses.count_documents({\"is_core\": True, \"department_id\": db.Departments.find_one({\"name\": \"Computer Science\"})[\"_id\"]})\n",
    "            }\n",
    "        }\n",
    "    ]))\n",
    "\n",
    "def top_courses_by_enrollment(db):\n",
    "    return list(db.Courses.aggregate([\n",
    "        {\n",
    "            \"$lookup\": {\n",
    "                \"from\": \"Enrollments\",\n",
    "                \"localField\": \"_id\",\n",
    "                \"foreignField\": \"course_id\",\n",
    "                \"as\": \"enrollment\"\n",
    "            }\n",
    "        },\n",
    "        {\n",
    "            \"$project\": {\n",
    "                \"name\": 1,\n",
    "                \"total_enrollments\": {\"$size\": {\"$ifNull\": [\"$enrollment\", []]}}\n",
    "            }\n",
    "        },\n",
    "        {\n",
    "            \"$sort\": {\"total_enrollments\": -1}\n",
    "        },\n",
    "        {\n",
    "            \"$limit\": 10\n",
    "        }\n",
    "    ]))"
   ]
  },
  {
   "cell_type": "code",
   "execution_count": 9,
   "metadata": {},
   "outputs": [
    {
     "data": {
      "text/plain": [
       "[{'_id': ObjectId('66f58527375b3e4c47395fa4'),\n",
       "  'name': 'Arjun Patil',\n",
       "  'student_type': 'BTech'},\n",
       " {'_id': ObjectId('66f58527375b3e4c47395fa4'),\n",
       "  'name': 'Arjun Patil',\n",
       "  'student_type': 'BTech'},\n",
       " {'_id': ObjectId('66f58527375b3e4c47395fa5'),\n",
       "  'name': 'Priya Singh',\n",
       "  'student_type': 'BTech'},\n",
       " {'_id': ObjectId('66f58527375b3e4c47395fa5'),\n",
       "  'name': 'Priya Singh',\n",
       "  'student_type': 'BTech'},\n",
       " {'_id': ObjectId('66f58527375b3e4c47395fa8'),\n",
       "  'name': 'Neha Iyer',\n",
       "  'student_type': 'BTech'},\n",
       " {'_id': ObjectId('66f58527375b3e4c47395fa8'),\n",
       "  'name': 'Neha Iyer',\n",
       "  'student_type': 'BTech'}]"
      ]
     },
     "execution_count": 9,
     "metadata": {},
     "output_type": "execute_result"
    }
   ],
   "source": [
    "fetch_students_in_course(db)"
   ]
  },
  {
   "cell_type": "code",
   "execution_count": 10,
   "metadata": {},
   "outputs": [
    {
     "data": {
      "text/plain": [
       "[{'_id': None, 'average': 4.0}]"
      ]
     },
     "execution_count": 10,
     "metadata": {},
     "output_type": "execute_result"
    }
   ],
   "source": [
    "average_students_per_instructor(db)"
   ]
  },
  {
   "cell_type": "code",
   "execution_count": 11,
   "metadata": {},
   "outputs": [
    {
     "data": {
      "text/plain": [
       "[{'_id': ObjectId('66f58527375b3e4c47395fae'), 'name': 'Data Structures'},\n",
       " {'_id': ObjectId('66f58527375b3e4c47395faf'), 'name': 'Algorithms'},\n",
       " {'_id': ObjectId('66f58527375b3e4c47395fb2'), 'name': 'Database Systems'},\n",
       " {'_id': ObjectId('66f58527375b3e4c47395fb3'), 'name': 'Data Structures'},\n",
       " {'_id': ObjectId('66f58527375b3e4c47395fb4'), 'name': 'Algorithms'},\n",
       " {'_id': ObjectId('66f58527375b3e4c47395fb7'), 'name': 'Database Systems'}]"
      ]
     },
     "execution_count": 11,
     "metadata": {},
     "output_type": "execute_result"
    }
   ],
   "source": [
    "list_courses_by_department(db)"
   ]
  },
  {
   "cell_type": "code",
   "execution_count": 12,
   "metadata": {},
   "outputs": [
    {
     "data": {
      "text/plain": [
       "[{'_id': 'department.name', 'total_students': 10}]"
      ]
     },
     "execution_count": 12,
     "metadata": {},
     "output_type": "execute_result"
    }
   ],
   "source": [
    "total_students_per_department(db)"
   ]
  },
  {
   "cell_type": "code",
   "execution_count": 13,
   "metadata": {},
   "outputs": [
    {
     "data": {
      "text/plain": [
       "[]"
      ]
     },
     "execution_count": 13,
     "metadata": {},
     "output_type": "execute_result"
    }
   ],
   "source": [
    "instructors_taught_btech_cse_core(db)"
   ]
  },
  {
   "cell_type": "code",
   "execution_count": 14,
   "metadata": {},
   "outputs": [
    {
     "data": {
      "text/plain": [
       "[{'_id': ObjectId('66f58527375b3e4c47395fae'),\n",
       "  'name': 'Data Structures',\n",
       "  'total_enrollments': 6},\n",
       " {'_id': ObjectId('66f58527375b3e4c47395faf'),\n",
       "  'name': 'Algorithms',\n",
       "  'total_enrollments': 4},\n",
       " {'_id': ObjectId('66f58527375b3e4c47395fb1'),\n",
       "  'name': 'Thermodynamics',\n",
       "  'total_enrollments': 2},\n",
       " {'_id': ObjectId('66f58527375b3e4c47395fb2'),\n",
       "  'name': 'Database Systems',\n",
       "  'total_enrollments': 2},\n",
       " {'_id': ObjectId('66f58527375b3e4c47395fb0'),\n",
       "  'name': 'Circuit Analysis',\n",
       "  'total_enrollments': 2},\n",
       " {'_id': ObjectId('66f58527375b3e4c47395fb5'),\n",
       "  'name': 'Circuit Analysis',\n",
       "  'total_enrollments': 0},\n",
       " {'_id': ObjectId('66f58527375b3e4c47395fb6'),\n",
       "  'name': 'Thermodynamics',\n",
       "  'total_enrollments': 0},\n",
       " {'_id': ObjectId('66f58527375b3e4c47395fb7'),\n",
       "  'name': 'Database Systems',\n",
       "  'total_enrollments': 0},\n",
       " {'_id': ObjectId('66f58527375b3e4c47395fb3'),\n",
       "  'name': 'Data Structures',\n",
       "  'total_enrollments': 0},\n",
       " {'_id': ObjectId('66f58527375b3e4c47395fb4'),\n",
       "  'name': 'Algorithms',\n",
       "  'total_enrollments': 0}]"
      ]
     },
     "execution_count": 14,
     "metadata": {},
     "output_type": "execute_result"
    }
   ],
   "source": [
    "top_courses_by_enrollment(db)"
   ]
  },
  {
   "cell_type": "code",
   "execution_count": 15,
   "metadata": {},
   "outputs": [],
   "source": [
    "sc.stop()"
   ]
  }
 ],
 "metadata": {
  "kernelspec": {
   "display_name": "ML",
   "language": "python",
   "name": "python3"
  },
  "language_info": {
   "codemirror_mode": {
    "name": "ipython",
    "version": 3
   },
   "file_extension": ".py",
   "mimetype": "text/x-python",
   "name": "python",
   "nbconvert_exporter": "python",
   "pygments_lexer": "ipython3",
   "version": "3.12.5"
  }
 },
 "nbformat": 4,
 "nbformat_minor": 2
}
